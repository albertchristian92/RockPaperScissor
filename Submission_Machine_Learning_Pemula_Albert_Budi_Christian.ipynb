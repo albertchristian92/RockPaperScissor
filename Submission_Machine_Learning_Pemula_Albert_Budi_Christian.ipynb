{
  "nbformat": 4,
  "nbformat_minor": 0,
  "metadata": {
    "colab": {
      "name": "Submission_Machine Learning Pemula_Albert Budi Christian",
      "provenance": [],
      "collapsed_sections": [],
      "toc_visible": true
    },
    "kernelspec": {
      "name": "python3",
      "display_name": "Python 3"
    },
    "accelerator": "GPU"
  },
  "cells": [
    {
      "cell_type": "code",
      "metadata": {
        "id": "zWG-w_HmWA0-"
      },
      "source": [
        "##Submission-Machine Learning untuk Pemula\n",
        "\n",
        "#Nama: Albert Budi Christian\n",
        "#Email: albert.christian92@gmail.com\n",
        "\n"
      ],
      "execution_count": 1,
      "outputs": []
    },
    {
      "cell_type": "code",
      "metadata": {
        "id": "4bax2gXCCMFd",
        "outputId": "b4ae964f-1bd3-4c5f-e65d-edc3a517a279",
        "colab": {
          "base_uri": "https://localhost:8080/",
          "height": 34
        }
      },
      "source": [
        "#Pertama-tama set runtime setting to GPU pada google colabs agar dapat di run menggunakan GPU, sebab jika training menggunakan CPU akan consume time\n",
        "#Runtime-> Change Runtime type\n",
        "#Cek apakah sudah menggunakan GPU atau belum\n",
        "\n",
        "%tensorflow_version 2.x\n",
        "import tensorflow as tf\n",
        "device_name = tf.test.gpu_device_name()\n",
        "if device_name != '/device:GPU:0':\n",
        "  raise SystemError('GPU device not found')\n",
        "print('Found GPU at: {}'.format(device_name))"
      ],
      "execution_count": 2,
      "outputs": [
        {
          "output_type": "stream",
          "text": [
            "Found GPU at: /device:GPU:0\n"
          ],
          "name": "stdout"
        }
      ]
    },
    {
      "cell_type": "code",
      "metadata": {
        "id": "gyVjHkaOCh07",
        "outputId": "5e73889e-867e-4913-d74e-17a546fa1028",
        "colab": {
          "base_uri": "https://localhost:8080/",
          "height": 357
        }
      },
      "source": [
        "#Cek GPU apa yang digunakan\n",
        "!nvidia-smi"
      ],
      "execution_count": 3,
      "outputs": [
        {
          "output_type": "stream",
          "text": [
            "Sat Oct 24 11:07:56 2020       \n",
            "+-----------------------------------------------------------------------------+\n",
            "| NVIDIA-SMI 455.23.05    Driver Version: 418.67       CUDA Version: 10.1     |\n",
            "|-------------------------------+----------------------+----------------------+\n",
            "| GPU  Name        Persistence-M| Bus-Id        Disp.A | Volatile Uncorr. ECC |\n",
            "| Fan  Temp  Perf  Pwr:Usage/Cap|         Memory-Usage | GPU-Util  Compute M. |\n",
            "|                               |                      |               MIG M. |\n",
            "|===============================+======================+======================|\n",
            "|   0  Tesla T4            Off  | 00000000:00:04.0 Off |                    0 |\n",
            "| N/A   57C    P0    29W /  70W |    227MiB / 15079MiB |      6%      Default |\n",
            "|                               |                      |                 ERR! |\n",
            "+-------------------------------+----------------------+----------------------+\n",
            "                                                                               \n",
            "+-----------------------------------------------------------------------------+\n",
            "| Processes:                                                                  |\n",
            "|  GPU   GI   CI        PID   Type   Process name                  GPU Memory |\n",
            "|        ID   ID                                                   Usage      |\n",
            "|=============================================================================|\n",
            "|  No running processes found                                                 |\n",
            "+-----------------------------------------------------------------------------+\n"
          ],
          "name": "stdout"
        }
      ]
    },
    {
      "cell_type": "code",
      "metadata": {
        "id": "Ib8n2N5t-zXb"
      },
      "source": [
        "# Import Library yang dibutuhkan\n",
        "#Saya menggunakan modul sesuai yang diajarkan ditambah implementasi callback\n",
        "\n",
        "import tensorflow as tf\n",
        "from tensorflow.keras.optimizers import RMSprop\n",
        "from tensorflow.keras.preprocessing.image import ImageDataGenerator\n",
        "import numpy as np\n",
        "from keras.preprocessing import image\n",
        "import matplotlib.pyplot as plt\n",
        "import matplotlib.image as mpimg\n",
        "import matplotlib.pyplot as plt\n",
        "import matplotlib.image as mpimg\n",
        "import zipfile\n",
        "import os\n",
        "import shutil\n",
        "import random\n",
        "\n",
        "from keras.optimizers import Adam, Adamax\n",
        "from keras.applications import MobileNetV2\n",
        "from keras.models import Sequential,Input,Model\n",
        "from keras.applications.xception import Xception\n",
        "from keras.layers import Dense,Flatten,Dropout,Concatenate,GlobalAveragePooling2D,Lambda,ZeroPadding2D\n",
        "from keras.layers import SeparableConv2D,BatchNormalization,MaxPooling2D,Conv2D\n",
        "from keras.callbacks import ModelCheckpoint,EarlyStopping,TensorBoard,CSVLogger,ReduceLROnPlateau,LearningRateScheduler\n"
      ],
      "execution_count": 4,
      "outputs": []
    },
    {
      "cell_type": "code",
      "metadata": {
        "id": "lUMLrz69-9T3",
        "outputId": "2cfdad72-0043-4882-e540-46f388e80f20",
        "colab": {
          "base_uri": "https://localhost:8080/",
          "height": 204
        }
      },
      "source": [
        "#Download Dataset Rock paper scissor\n",
        "!wget --no-check-certificate \\\n",
        "  https://dicodingacademy.blob.core.windows.net/picodiploma/ml_pemula_academy/rockpaperscissors.zip \\\n",
        "  -O /tmp/rockpaperscissors.zip"
      ],
      "execution_count": 5,
      "outputs": [
        {
          "output_type": "stream",
          "text": [
            "--2020-10-24 11:07:56--  https://dicodingacademy.blob.core.windows.net/picodiploma/ml_pemula_academy/rockpaperscissors.zip\n",
            "Resolving dicodingacademy.blob.core.windows.net (dicodingacademy.blob.core.windows.net)... 52.239.197.36\n",
            "Connecting to dicodingacademy.blob.core.windows.net (dicodingacademy.blob.core.windows.net)|52.239.197.36|:443... connected.\n",
            "HTTP request sent, awaiting response... 200 OK\n",
            "Length: 322873683 (308M) [application/zip]\n",
            "Saving to: ‘/tmp/rockpaperscissors.zip’\n",
            "\n",
            "/tmp/rockpapersciss 100%[===================>] 307.92M  8.63MB/s    in 46s     \n",
            "\n",
            "2020-10-24 11:08:43 (6.64 MB/s) - ‘/tmp/rockpaperscissors.zip’ saved [322873683/322873683]\n",
            "\n"
          ],
          "name": "stdout"
        }
      ]
    },
    {
      "cell_type": "code",
      "metadata": {
        "id": "wdvyZ4nL_XMF"
      },
      "source": [
        "# ekstract dataset rockpaperscissor\n",
        "zip_file = '/tmp/rockpaperscissors.zip'\n",
        "zip_obj = zipfile.ZipFile(zip_file, 'r')\n",
        "zip_obj.extractall('/tmp')\n",
        "zip_obj.close()"
      ],
      "execution_count": 6,
      "outputs": []
    },
    {
      "cell_type": "code",
      "metadata": {
        "id": "Y6o_Ytbm_fWX"
      },
      "source": [
        "#hapus folder rps-cv-images untuk menghindari duplikasi data\n",
        "dir_path = '/tmp/rockpaperscissors/rps-cv-images'\n",
        "try:\n",
        "    shutil.rmtree(dir_path)\n",
        "except OSError as e:\n",
        "    print(\"Error: %s : %s\" % (dir_path, e.strerror))"
      ],
      "execution_count": 7,
      "outputs": []
    },
    {
      "cell_type": "code",
      "metadata": {
        "id": "-v0QSwKY_vII"
      },
      "source": [
        "#set base dir\n",
        "base_dir = '/tmp/rockpaperscissors'\n"
      ],
      "execution_count": 8,
      "outputs": []
    },
    {
      "cell_type": "code",
      "metadata": {
        "id": "bL-VJYC0BFMT",
        "outputId": "36a37eba-b9d4-4732-c7b3-4e553d26735f",
        "colab": {
          "base_uri": "https://localhost:8080/",
          "height": 51
        }
      },
      "source": [
        "#memisahkan data training dan data validasi, sesuai ketentuan data validasi sebanyak 40%.\n",
        "\n",
        "image_generator = tf.keras.preprocessing.image.ImageDataGenerator(validation_split=0.4,\n",
        "                                                                  rescale=1./255,\n",
        "                                                                  rotation_range=20,\n",
        "                                                                  shear_range = 0.2,\n",
        "                                                                  width_shift_range=0.2,\n",
        "                                                                  height_shift_range=0.2,\n",
        "                                                                  zoom_range=0.2,\n",
        "                                                                  horizontal_flip=True,\n",
        "                                                                  fill_mode = 'nearest')\n",
        "data_train = image_generator.flow_from_directory(directory=base_dir,\n",
        "                                                     target_size = (224,224),\n",
        "                                                     batch_size=32,\n",
        "                                                     class_mode = 'categorical',\n",
        "                                                     shuffle=True,\n",
        "                                                     subset='training')\n",
        "data_val = image_generator.flow_from_directory(directory=base_dir,\n",
        "                                                   target_size = (224,224),\n",
        "                                                   batch_size=32,\n",
        "                                                   class_mode = 'categorical',\n",
        "                                                   shuffle=True,\n",
        "                                                   subset='validation')"
      ],
      "execution_count": 9,
      "outputs": [
        {
          "output_type": "stream",
          "text": [
            "Found 1314 images belonging to 3 classes.\n",
            "Found 874 images belonging to 3 classes.\n"
          ],
          "name": "stdout"
        }
      ]
    },
    {
      "cell_type": "code",
      "metadata": {
        "id": "JCFJ67diOUww",
        "outputId": "de841378-455e-4037-882e-650298335c3d",
        "colab": {
          "base_uri": "https://localhost:8080/",
          "height": 289
        }
      },
      "source": [
        "model_base = MobileNetV2(weights='imagenet',include_top=False,input_shape=(224,224,3))\n",
        "model = Sequential()\n",
        "model.add(model_base)\n",
        "model.add(GlobalAveragePooling2D())\n",
        "model.add(Dropout(.5))\n",
        "model.add(Dense(3,activation='softmax'))\n",
        "model.summary()"
      ],
      "execution_count": 10,
      "outputs": [
        {
          "output_type": "stream",
          "text": [
            "Model: \"sequential\"\n",
            "_________________________________________________________________\n",
            "Layer (type)                 Output Shape              Param #   \n",
            "=================================================================\n",
            "mobilenetv2_1.00_224 (Functi (None, 7, 7, 1280)        2257984   \n",
            "_________________________________________________________________\n",
            "global_average_pooling2d (Gl (None, 1280)              0         \n",
            "_________________________________________________________________\n",
            "dropout (Dropout)            (None, 1280)              0         \n",
            "_________________________________________________________________\n",
            "dense (Dense)                (None, 3)                 3843      \n",
            "=================================================================\n",
            "Total params: 2,261,827\n",
            "Trainable params: 2,227,715\n",
            "Non-trainable params: 34,112\n",
            "_________________________________________________________________\n"
          ],
          "name": "stdout"
        }
      ]
    },
    {
      "cell_type": "code",
      "metadata": {
        "id": "QAGuGCJBMrDN",
        "outputId": "e0ff3e86-1194-4ea5-a20d-c830b9416929",
        "colab": {
          "base_uri": "https://localhost:8080/",
          "height": 34
        }
      },
      "source": [
        "#Set parameter Call back\n",
        "best_model_weights = './base.model'\n",
        "checkpoint = ModelCheckpoint(\n",
        "    best_model_weights,\n",
        "    monitor='val_loss',\n",
        "    verbose=1,\n",
        "    save_best_only=True,\n",
        "    mode='auto',\n",
        "    save_weights_only=False,\n",
        "    save_freq=\"epoch\",\n",
        "    period=1\n",
        ")\n",
        "earlystop = EarlyStopping(\n",
        "    monitor='val_loss',\n",
        "    min_delta=0.001,\n",
        "    patience=10,\n",
        "    verbose=1,\n",
        "    mode='auto'\n",
        ")\n",
        "\n",
        "csvlogger = CSVLogger(\n",
        "    filename= \"log_datatrain.log\",\n",
        "    separator = \",\",\n",
        "    append = False\n",
        ")\n",
        "\n",
        "reduce = ReduceLROnPlateau(\n",
        "    monitor='val_loss',\n",
        "    factor=0.1,\n",
        "    patience=10,\n",
        "    verbose=1, \n",
        "    mode='auto',\n",
        "    cooldown=1 \n",
        ")\n",
        "\n",
        "callbacks = [checkpoint,csvlogger,reduce]"
      ],
      "execution_count": 11,
      "outputs": [
        {
          "output_type": "stream",
          "text": [
            "WARNING:tensorflow:`period` argument is deprecated. Please use `save_freq` to specify the frequency in number of batches seen.\n"
          ],
          "name": "stdout"
        }
      ]
    },
    {
      "cell_type": "code",
      "metadata": {
        "id": "3aM7Y5atAXtv"
      },
      "source": [
        "#set learning schedule dengan optimizer Adamax\n",
        "lr_schedule = tf.optimizers.schedules.ExponentialDecay(\n",
        "    initial_learning_rate=0.001,\n",
        "    decay_steps=10000,\n",
        "    decay_rate=0.9)\n",
        "\n",
        "optimizer = Adamax(learning_rate=lr_schedule,beta_1=0.9, beta_2=0.999, epsilon=1e-07)\n",
        "\n",
        "model.compile(loss='binary_crossentropy',\n",
        "              optimizer=optimizer,\n",
        "              metrics=['accuracy'])"
      ],
      "execution_count": 12,
      "outputs": []
    },
    {
      "cell_type": "code",
      "metadata": {
        "id": "n0nM7UoQAbvM",
        "outputId": "11149b39-4f72-4729-aa27-bf9ef0f5804f",
        "colab": {
          "base_uri": "https://localhost:8080/",
          "height": 1000
        }
      },
      "source": [
        "#Simpan hasil training ke dalam variabel history\n",
        "history = model.fit_generator(\n",
        "    data_train,\n",
        "    steps_per_epoch  = 25,\n",
        "    validation_data  = data_val,\n",
        "    validation_steps = 5,\n",
        "    epochs = 25,\n",
        "    verbose = 2,\n",
        "    callbacks=callbacks)"
      ],
      "execution_count": 13,
      "outputs": [
        {
          "output_type": "stream",
          "text": [
            "WARNING:tensorflow:From <ipython-input-13-870a091b52b2>:9: Model.fit_generator (from tensorflow.python.keras.engine.training) is deprecated and will be removed in a future version.\n",
            "Instructions for updating:\n",
            "Please use Model.fit, which supports generators.\n",
            "Epoch 1/25\n",
            "WARNING:tensorflow:Callbacks method `on_train_batch_end` is slow compared to the batch time (batch time: 0.0564s vs `on_train_batch_end` time: 0.1402s). Check your callbacks.\n",
            "\n",
            "Epoch 00001: val_loss improved from inf to 4.03457, saving model to ./base.model\n",
            "WARNING:tensorflow:From /usr/local/lib/python3.6/dist-packages/tensorflow/python/training/tracking/tracking.py:111: Model.state_updates (from tensorflow.python.keras.engine.training) is deprecated and will be removed in a future version.\n",
            "Instructions for updating:\n",
            "This property should not be used in TensorFlow 2.0, as updates are applied automatically.\n",
            "WARNING:tensorflow:From /usr/local/lib/python3.6/dist-packages/tensorflow/python/training/tracking/tracking.py:111: Layer.updates (from tensorflow.python.keras.engine.base_layer) is deprecated and will be removed in a future version.\n",
            "Instructions for updating:\n",
            "This property should not be used in TensorFlow 2.0, as updates are applied automatically.\n",
            "INFO:tensorflow:Assets written to: ./base.model/assets\n",
            "25/25 - 35s - loss: 0.1233 - accuracy: 0.9287 - val_loss: 4.0346 - val_accuracy: 0.2937\n",
            "Epoch 2/25\n",
            "\n",
            "Epoch 00002: val_loss improved from 4.03457 to 2.82169, saving model to ./base.model\n",
            "INFO:tensorflow:Assets written to: ./base.model/assets\n",
            "25/25 - 34s - loss: 0.0236 - accuracy: 0.9870 - val_loss: 2.8217 - val_accuracy: 0.3375\n",
            "Epoch 3/25\n",
            "\n",
            "Epoch 00003: val_loss did not improve from 2.82169\n",
            "25/25 - 13s - loss: 0.0192 - accuracy: 0.9925 - val_loss: 2.9769 - val_accuracy: 0.3187\n",
            "Epoch 4/25\n",
            "\n",
            "Epoch 00004: val_loss improved from 2.82169 to 1.36927, saving model to ./base.model\n",
            "INFO:tensorflow:Assets written to: ./base.model/assets\n",
            "25/25 - 35s - loss: 0.0190 - accuracy: 0.9875 - val_loss: 1.3693 - val_accuracy: 0.4500\n",
            "Epoch 5/25\n",
            "\n",
            "Epoch 00005: val_loss did not improve from 1.36927\n",
            "25/25 - 13s - loss: 0.0109 - accuracy: 0.9962 - val_loss: 1.3721 - val_accuracy: 0.4625\n",
            "Epoch 6/25\n",
            "\n",
            "Epoch 00006: val_loss improved from 1.36927 to 1.13508, saving model to ./base.model\n",
            "INFO:tensorflow:Assets written to: ./base.model/assets\n",
            "25/25 - 34s - loss: 0.0053 - accuracy: 0.9961 - val_loss: 1.1351 - val_accuracy: 0.4688\n",
            "Epoch 7/25\n",
            "\n",
            "Epoch 00007: val_loss improved from 1.13508 to 0.84370, saving model to ./base.model\n",
            "INFO:tensorflow:Assets written to: ./base.model/assets\n",
            "25/25 - 34s - loss: 0.0069 - accuracy: 0.9975 - val_loss: 0.8437 - val_accuracy: 0.5188\n",
            "Epoch 8/25\n",
            "\n",
            "Epoch 00008: val_loss improved from 0.84370 to 0.80213, saving model to ./base.model\n",
            "INFO:tensorflow:Assets written to: ./base.model/assets\n",
            "25/25 - 34s - loss: 0.0053 - accuracy: 0.9961 - val_loss: 0.8021 - val_accuracy: 0.5750\n",
            "Epoch 9/25\n",
            "\n",
            "Epoch 00009: val_loss improved from 0.80213 to 0.60600, saving model to ./base.model\n",
            "INFO:tensorflow:Assets written to: ./base.model/assets\n",
            "25/25 - 34s - loss: 0.0031 - accuracy: 1.0000 - val_loss: 0.6060 - val_accuracy: 0.6938\n",
            "Epoch 10/25\n",
            "\n",
            "Epoch 00010: val_loss improved from 0.60600 to 0.44802, saving model to ./base.model\n",
            "INFO:tensorflow:Assets written to: ./base.model/assets\n",
            "25/25 - 35s - loss: 0.0056 - accuracy: 0.9987 - val_loss: 0.4480 - val_accuracy: 0.7437\n",
            "Epoch 11/25\n",
            "\n",
            "Epoch 00011: val_loss improved from 0.44802 to 0.39254, saving model to ./base.model\n",
            "INFO:tensorflow:Assets written to: ./base.model/assets\n",
            "25/25 - 34s - loss: 0.0048 - accuracy: 0.9987 - val_loss: 0.3925 - val_accuracy: 0.7563\n",
            "Epoch 12/25\n",
            "\n",
            "Epoch 00012: val_loss improved from 0.39254 to 0.33953, saving model to ./base.model\n",
            "INFO:tensorflow:Assets written to: ./base.model/assets\n",
            "25/25 - 34s - loss: 0.0020 - accuracy: 0.9987 - val_loss: 0.3395 - val_accuracy: 0.7937\n",
            "Epoch 13/25\n",
            "\n",
            "Epoch 00013: val_loss improved from 0.33953 to 0.19874, saving model to ./base.model\n",
            "INFO:tensorflow:Assets written to: ./base.model/assets\n",
            "25/25 - 34s - loss: 0.0071 - accuracy: 0.9962 - val_loss: 0.1987 - val_accuracy: 0.8875\n",
            "Epoch 14/25\n",
            "\n",
            "Epoch 00014: val_loss did not improve from 0.19874\n",
            "25/25 - 13s - loss: 0.0049 - accuracy: 0.9987 - val_loss: 0.2584 - val_accuracy: 0.8500\n",
            "Epoch 15/25\n",
            "\n",
            "Epoch 00015: val_loss did not improve from 0.19874\n",
            "25/25 - 13s - loss: 0.0022 - accuracy: 1.0000 - val_loss: 0.3028 - val_accuracy: 0.8438\n",
            "Epoch 16/25\n",
            "\n",
            "Epoch 00016: val_loss did not improve from 0.19874\n",
            "25/25 - 13s - loss: 0.0109 - accuracy: 0.9961 - val_loss: 0.3158 - val_accuracy: 0.8062\n",
            "Epoch 17/25\n",
            "\n",
            "Epoch 00017: val_loss did not improve from 0.19874\n",
            "25/25 - 13s - loss: 0.0172 - accuracy: 0.9922 - val_loss: 0.4653 - val_accuracy: 0.7500\n",
            "Epoch 18/25\n",
            "\n",
            "Epoch 00018: val_loss did not improve from 0.19874\n",
            "25/25 - 13s - loss: 0.0132 - accuracy: 0.9950 - val_loss: 0.2894 - val_accuracy: 0.8438\n",
            "Epoch 19/25\n",
            "\n",
            "Epoch 00019: val_loss did not improve from 0.19874\n",
            "25/25 - 13s - loss: 0.0021 - accuracy: 1.0000 - val_loss: 0.3588 - val_accuracy: 0.8000\n",
            "Epoch 20/25\n",
            "\n",
            "Epoch 00020: val_loss did not improve from 0.19874\n",
            "25/25 - 13s - loss: 0.0017 - accuracy: 1.0000 - val_loss: 0.3910 - val_accuracy: 0.7937\n",
            "Epoch 21/25\n",
            "\n",
            "Epoch 00021: val_loss did not improve from 0.19874\n",
            "25/25 - 13s - loss: 0.0048 - accuracy: 0.9987 - val_loss: 0.2028 - val_accuracy: 0.8938\n",
            "Epoch 22/25\n",
            "\n",
            "Epoch 00022: val_loss improved from 0.19874 to 0.17135, saving model to ./base.model\n",
            "INFO:tensorflow:Assets written to: ./base.model/assets\n",
            "25/25 - 34s - loss: 0.0056 - accuracy: 0.9974 - val_loss: 0.1714 - val_accuracy: 0.8813\n",
            "Epoch 23/25\n",
            "\n",
            "Epoch 00023: val_loss improved from 0.17135 to 0.12750, saving model to ./base.model\n",
            "INFO:tensorflow:Assets written to: ./base.model/assets\n",
            "25/25 - 34s - loss: 0.0039 - accuracy: 0.9974 - val_loss: 0.1275 - val_accuracy: 0.9187\n",
            "Epoch 24/25\n",
            "\n",
            "Epoch 00024: val_loss did not improve from 0.12750\n",
            "25/25 - 13s - loss: 0.0079 - accuracy: 0.9974 - val_loss: 0.2399 - val_accuracy: 0.8375\n",
            "Epoch 25/25\n",
            "\n",
            "Epoch 00025: val_loss did not improve from 0.12750\n",
            "25/25 - 13s - loss: 0.0088 - accuracy: 0.9961 - val_loss: 0.1324 - val_accuracy: 0.9250\n"
          ],
          "name": "stdout"
        }
      ]
    },
    {
      "cell_type": "code",
      "metadata": {
        "id": "oa-pJJlrKiK_"
      },
      "source": [
        "def show_final_history(history):\n",
        "    fig, ax = plt.subplots(1, 2, figsize=(15,5))\n",
        "    ax[0].set_title('loss')\n",
        "    ax[0].plot(history.epoch, history.history[\"loss\"], label=\"Train loss\")\n",
        "    ax[0].plot(history.epoch, history.history[\"val_loss\"], label=\"Validation loss\")\n",
        "    ax[1].set_title('acc')\n",
        "    ax[1].plot(history.epoch, history.history[\"accuracy\"], label=\"Train accuracy\")\n",
        "    ax[1].plot(history.epoch, history.history[\"val_accuracy\"], label=\"Validation accuracy\")\n",
        "    ax[0].legend()\n",
        "    ax[1].legend()"
      ],
      "execution_count": 14,
      "outputs": []
    },
    {
      "cell_type": "code",
      "metadata": {
        "id": "a8QFg7WWHNbd",
        "outputId": "1817ae60-ab89-431a-882e-442e77997bef",
        "colab": {
          "base_uri": "https://localhost:8080/",
          "height": 421
        }
      },
      "source": [
        "#Cetak grafik dan nilai train dan test\n",
        "\n",
        "show_final_history(history)\n",
        "train_score = model.evaluate(data_train, verbose=0)\n",
        "test_score = model.evaluate(data_val, verbose=0)\n",
        "print(\"Nilai Train loss :\",train_score[0])\n",
        "print(\"Nilai Akurasi train :\",train_score[1])\n",
        "print(\"Nilai Test Loss:\",test_score[0])\n",
        "print(\"Nilai Akurasi Test :\",test_score[1])\n",
        "\n",
        "#save model   \n",
        "model.save(\"model.h5\")\n",
        "print(\"Weights Saved\")"
      ],
      "execution_count": 15,
      "outputs": [
        {
          "output_type": "stream",
          "text": [
            "Nilai Train loss : 0.11007272452116013\n",
            "Nilai Akurasi train : 0.9375951290130615\n",
            "Nilai Test Loss: 0.10466186702251434\n",
            "Nilai Akurasi Test : 0.9439359307289124\n",
            "Weights Saved\n"
          ],
          "name": "stdout"
        },
        {
          "output_type": "display_data",
          "data": {
            "image/png": "[encoded data removed]",
            "text/plain": [
              "<Figure size 1080x360 with 2 Axes>"
            ]
          },
          "metadata": {
            "tags": [],
            "needs_background": "light"
          }
        }
      ]
    },
    {
      "cell_type": "code",
      "metadata": {
        "id": "6hVkoZZGFVRc",
        "outputId": "0aa28d8b-4fd8-4e0c-d8d0-aad94a0a866e",
        "colab": {
          "resources": {
            "http://localhost:8080/nbextensions/google.colab/files.js": {
              "data": "Ly8gQ29weXJpZ2h0IDIwMTcgR29vZ2xlIExMQwovLwovLyBMaWNlbnNlZCB1bmRlciB0aGUgQXBhY2hlIExpY2Vuc2UsIFZlcnNpb24gMi4wICh0aGUgIkxpY2Vuc2UiKTsKLy8geW91IG1heSBub3QgdXNlIHRoaXMgZmlsZSBleGNlcHQgaW4gY29tcGxpYW5jZSB3aXRoIHRoZSBMaWNlbnNlLgovLyBZb3UgbWF5IG9idGFpbiBhIGNvcHkgb2YgdGhlIExpY2Vuc2UgYXQKLy8KLy8gICAgICBodHRwOi8vd3d3LmFwYWNoZS5vcmcvbGljZW5zZXMvTElDRU5TRS0yLjAKLy8KLy8gVW5sZXNzIHJlcXVpcmVkIGJ5IGFwcGxpY2FibGUgbGF3IG9yIGFncmVlZCB0byBpbiB3cml0aW5nLCBzb2Z0d2FyZQovLyBkaXN0cmlidXRlZCB1bmRlciB0aGUgTGljZW5zZSBpcyBkaXN0cmlidXRlZCBvbiBhbiAiQVMgSVMiIEJBU0lTLAovLyBXSVRIT1VUIFdBUlJBTlRJRVMgT1IgQ09ORElUSU9OUyBPRiBBTlkgS0lORCwgZWl0aGVyIGV4cHJlc3Mgb3IgaW1wbGllZC4KLy8gU2VlIHRoZSBMaWNlbnNlIGZvciB0aGUgc3BlY2lmaWMgbGFuZ3VhZ2UgZ292ZXJuaW5nIHBlcm1pc3Npb25zIGFuZAovLyBsaW1pdGF0aW9ucyB1bmRlciB0aGUgTGljZW5zZS4KCi8qKgogKiBAZmlsZW92ZXJ2aWV3IEhlbHBlcnMgZm9yIGdvb2dsZS5jb2xhYiBQeXRob24gbW9kdWxlLgogKi8KKGZ1bmN0aW9uKHNjb3BlKSB7CmZ1bmN0aW9uIHNwYW4odGV4dCwgc3R5bGVBdHRyaWJ1dGVzID0ge30pIHsKICBjb25zdCBlbGVtZW50ID0gZG9jdW1lbnQuY3JlYXRlRWxlbWVudCgnc3BhbicpOwogIGVsZW1lbnQudGV4dENvbnRlbnQgPSB0ZXh0OwogIGZvciAoY29uc3Qga2V5IG9mIE9iamVjdC5rZXlzKHN0eWxlQXR0cmlidXRlcykpIHsKICAgIGVsZW1lbnQuc3R5bGVba2V5XSA9IHN0eWxlQXR0cmlidXRlc1trZXldOwogIH0KICByZXR1cm4gZWxlbWVudDsKfQoKLy8gTWF4IG51bWJlciBvZiBieXRlcyB3aGljaCB3aWxsIGJlIHVwbG9hZGVkIGF0IGEgdGltZS4KY29uc3QgTUFYX1BBWUxPQURfU0laRSA9IDEwMCAqIDEwMjQ7CgpmdW5jdGlvbiBfdXBsb2FkRmlsZXMoaW5wdXRJZCwgb3V0cHV0SWQpIHsKICBjb25zdCBzdGVwcyA9IHVwbG9hZEZpbGVzU3RlcChpbnB1dElkLCBvdXRwdXRJZCk7CiAgY29uc3Qgb3V0cHV0RWxlbWVudCA9IGRvY3VtZW50LmdldEVsZW1lbnRCeUlkKG91dHB1dElkKTsKICAvLyBDYWNoZSBzdGVwcyBvbiB0aGUgb3V0cHV0RWxlbWVudCB0byBtYWtlIGl0IGF2YWlsYWJsZSBmb3IgdGhlIG5leHQgY2FsbAogIC8vIHRvIHVwbG9hZEZpbGVzQ29udGludWUgZnJvbSBQeXRob24uCiAgb3V0cHV0RWxlbWVudC5zdGVwcyA9IHN0ZXBzOwoKICByZXR1cm4gX3VwbG9hZEZpbGVzQ29udGludWUob3V0cHV0SWQpOwp9CgovLyBUaGlzIGlzIHJvdWdobHkgYW4gYXN5bmMgZ2VuZXJhdG9yIChub3Qgc3VwcG9ydGVkIGluIHRoZSBicm93c2VyIHlldCksCi8vIHdoZXJlIHRoZXJlIGFyZSBtdWx0aXBsZSBhc3luY2hyb25vdXMgc3RlcHMgYW5kIHRoZSBQeXRob24gc2lkZSBpcyBnb2luZwovLyB0byBwb2xsIGZvciBjb21wbGV0aW9uIG9mIGVhY2ggc3RlcC4KLy8gVGhpcyB1c2VzIGEgUHJvbWlzZSB0byBibG9jayB0aGUgcHl0aG9uIHNpZGUgb24gY29tcGxldGlvbiBvZiBlYWNoIHN0ZXAsCi8vIHRoZW4gcGFzc2VzIHRoZSByZXN1bHQgb2YgdGhlIHByZXZpb3VzIHN0ZXAgYXMgdGhlIGlucHV0IHRvIHRoZSBuZXh0IHN0ZXAuCmZ1bmN0aW9uIF91cGxvYWRGaWxlc0NvbnRpbnVlKG91dHB1dElkKSB7CiAgY29uc3Qgb3V0cHV0RWxlbWVudCA9IGRvY3VtZW50LmdldEVsZW1lbnRCeUlkKG91dHB1dElkKTsKICBjb25zdCBzdGVwcyA9IG91dHB1dEVsZW1lbnQuc3RlcHM7CgogIGNvbnN0IG5leHQgPSBzdGVwcy5uZXh0KG91dHB1dEVsZW1lbnQubGFzdFByb21pc2VWYWx1ZSk7CiAgcmV0dXJuIFByb21pc2UucmVzb2x2ZShuZXh0LnZhbHVlLnByb21pc2UpLnRoZW4oKHZhbHVlKSA9PiB7CiAgICAvLyBDYWNoZSB0aGUgbGFzdCBwcm9taXNlIHZhbHVlIHRvIG1ha2UgaXQgYXZhaWxhYmxlIHRvIHRoZSBuZXh0CiAgICAvLyBzdGVwIG9mIHRoZSBnZW5lcmF0b3IuCiAgICBvdXRwdXRFbGVtZW50Lmxhc3RQcm9taXNlVmFsdWUgPSB2YWx1ZTsKICAgIHJldHVybiBuZXh0LnZhbHVlLnJlc3BvbnNlOwogIH0pOwp9CgovKioKICogR2VuZXJhdG9yIGZ1bmN0aW9uIHdoaWNoIGlzIGNhbGxlZCBiZXR3ZWVuIGVhY2ggYXN5bmMgc3RlcCBvZiB0aGUgdXBsb2FkCiAqIHByb2Nlc3MuCiAqIEBwYXJhbSB7c3RyaW5nfSBpbnB1dElkIEVsZW1lbnQgSUQgb2YgdGhlIGlucHV0IGZpbGUgcGlja2VyIGVsZW1lbnQuCiAqIEBwYXJhbSB7c3RyaW5nfSBvdXRwdXRJZCBFbGVtZW50IElEIG9mIHRoZSBvdXRwdXQgZGlzcGxheS4KICogQHJldHVybiB7IUl0ZXJhYmxlPCFPYmplY3Q+fSBJdGVyYWJsZSBvZiBuZXh0IHN0ZXBzLgogKi8KZnVuY3Rpb24qIHVwbG9hZEZpbGVzU3RlcChpbnB1dElkLCBvdXRwdXRJZCkgewogIGNvbnN0IGlucHV0RWxlbWVudCA9IGRvY3VtZW50LmdldEVsZW1lbnRCeUlkKGlucHV0SWQpOwogIGlucHV0RWxlbWVudC5kaXNhYmxlZCA9IGZhbHNlOwoKICBjb25zdCBvdXRwdXRFbGVtZW50ID0gZG9jdW1lbnQuZ2V0RWxlbWVudEJ5SWQob3V0cHV0SWQpOwogIG91dHB1dEVsZW1lbnQuaW5uZXJIVE1MID0gJyc7CgogIGNvbnN0IHBpY2tlZFByb21pc2UgPSBuZXcgUHJvbWlzZSgocmVzb2x2ZSkgPT4gewogICAgaW5wdXRFbGVtZW50LmFkZEV2ZW50TGlzdGVuZXIoJ2NoYW5nZScsIChlKSA9PiB7CiAgICAgIHJlc29sdmUoZS50YXJnZXQuZmlsZXMpOwogICAgfSk7CiAgfSk7CgogIGNvbnN0IGNhbmNlbCA9IGRvY3VtZW50LmNyZWF0ZUVsZW1lbnQoJ2J1dHRvbicpOwogIGlucHV0RWxlbWVudC5wYXJlbnRFbGVtZW50LmFwcGVuZENoaWxkKGNhbmNlbCk7CiAgY2FuY2VsLnRleHRDb250ZW50ID0gJ0NhbmNlbCB1cGxvYWQnOwogIGNvbnN0IGNhbmNlbFByb21pc2UgPSBuZXcgUHJvbWlzZSgocmVzb2x2ZSkgPT4gewogICAgY2FuY2VsLm9uY2xpY2sgPSAoKSA9PiB7CiAgICAgIHJlc29sdmUobnVsbCk7CiAgICB9OwogIH0pOwoKICAvLyBXYWl0IGZvciB0aGUgdXNlciB0byBwaWNrIHRoZSBmaWxlcy4KICBjb25zdCBmaWxlcyA9IHlpZWxkIHsKICAgIHByb21pc2U6IFByb21pc2UucmFjZShbcGlja2VkUHJvbWlzZSwgY2FuY2VsUHJvbWlzZV0pLAogICAgcmVzcG9uc2U6IHsKICAgICAgYWN0aW9uOiAnc3RhcnRpbmcnLAogICAgfQogIH07CgogIGNhbmNlbC5yZW1vdmUoKTsKCiAgLy8gRGlzYWJsZSB0aGUgaW5wdXQgZWxlbWVudCBzaW5jZSBmdXJ0aGVyIHBpY2tzIGFyZSBub3QgYWxsb3dlZC4KICBpbnB1dEVsZW1lbnQuZGlzYWJsZWQgPSB0cnVlOwoKICBpZiAoIWZpbGVzKSB7CiAgICByZXR1cm4gewogICAgICByZXNwb25zZTogewogICAgICAgIGFjdGlvbjogJ2NvbXBsZXRlJywKICAgICAgfQogICAgfTsKICB9CgogIGZvciAoY29uc3QgZmlsZSBvZiBmaWxlcykgewogICAgY29uc3QgbGkgPSBkb2N1bWVudC5jcmVhdGVFbGVtZW50KCdsaScpOwogICAgbGkuYXBwZW5kKHNwYW4oZmlsZS5uYW1lLCB7Zm9udFdlaWdodDogJ2JvbGQnfSkpOwogICAgbGkuYXBwZW5kKHNwYW4oCiAgICAgICAgYCgke2ZpbGUudHlwZSB8fCAnbi9hJ30pIC0gJHtmaWxlLnNpemV9IGJ5dGVzLCBgICsKICAgICAgICBgbGFzdCBtb2RpZmllZDogJHsKICAgICAgICAgICAgZmlsZS5sYXN0TW9kaWZpZWREYXRlID8gZmlsZS5sYXN0TW9kaWZpZWREYXRlLnRvTG9jYWxlRGF0ZVN0cmluZygpIDoKICAgICAgICAgICAgICAgICAgICAgICAgICAgICAgICAgICAgJ24vYSd9IC0gYCkpOwogICAgY29uc3QgcGVyY2VudCA9IHNwYW4oJzAlIGRvbmUnKTsKICAgIGxpLmFwcGVuZENoaWxkKHBlcmNlbnQpOwoKICAgIG91dHB1dEVsZW1lbnQuYXBwZW5kQ2hpbGQobGkpOwoKICAgIGNvbnN0IGZpbGVEYXRhUHJvbWlzZSA9IG5ldyBQcm9taXNlKChyZXNvbHZlKSA9PiB7CiAgICAgIGNvbnN0IHJlYWRlciA9IG5ldyBGaWxlUmVhZGVyKCk7CiAgICAgIHJlYWRlci5vbmxvYWQgPSAoZSkgPT4gewogICAgICAgIHJlc29sdmUoZS50YXJnZXQucmVzdWx0KTsKICAgICAgfTsKICAgICAgcmVhZGVyLnJlYWRBc0FycmF5QnVmZmVyKGZpbGUpOwogICAgfSk7CiAgICAvLyBXYWl0IGZvciB0aGUgZGF0YSB0byBiZSByZWFkeS4KICAgIGxldCBmaWxlRGF0YSA9IHlpZWxkIHsKICAgICAgcHJvbWlzZTogZmlsZURhdGFQcm9taXNlLAogICAgICByZXNwb25zZTogewogICAgICAgIGFjdGlvbjogJ2NvbnRpbnVlJywKICAgICAgfQogICAgfTsKCiAgICAvLyBVc2UgYSBjaHVua2VkIHNlbmRpbmcgdG8gYXZvaWQgbWVzc2FnZSBzaXplIGxpbWl0cy4gU2VlIGIvNjIxMTU2NjAuCiAgICBsZXQgcG9zaXRpb24gPSAwOwogICAgd2hpbGUgKHBvc2l0aW9uIDwgZmlsZURhdGEuYnl0ZUxlbmd0aCkgewogICAgICBjb25zdCBsZW5ndGggPSBNYXRoLm1pbihmaWxlRGF0YS5ieXRlTGVuZ3RoIC0gcG9zaXRpb24sIE1BWF9QQVlMT0FEX1NJWkUpOwogICAgICBjb25zdCBjaHVuayA9IG5ldyBVaW50OEFycmF5KGZpbGVEYXRhLCBwb3NpdGlvbiwgbGVuZ3RoKTsKICAgICAgcG9zaXRpb24gKz0gbGVuZ3RoOwoKICAgICAgY29uc3QgYmFzZTY0ID0gYnRvYShTdHJpbmcuZnJvbUNoYXJDb2RlLmFwcGx5KG51bGwsIGNodW5rKSk7CiAgICAgIHlpZWxkIHsKICAgICAgICByZXNwb25zZTogewogICAgICAgICAgYWN0aW9uOiAnYXBwZW5kJywKICAgICAgICAgIGZpbGU6IGZpbGUubmFtZSwKICAgICAgICAgIGRhdGE6IGJhc2U2NCwKICAgICAgICB9LAogICAgICB9OwogICAgICBwZXJjZW50LnRleHRDb250ZW50ID0KICAgICAgICAgIGAke01hdGgucm91bmQoKHBvc2l0aW9uIC8gZmlsZURhdGEuYnl0ZUxlbmd0aCkgKiAxMDApfSUgZG9uZWA7CiAgICB9CiAgfQoKICAvLyBBbGwgZG9uZS4KICB5aWVsZCB7CiAgICByZXNwb25zZTogewogICAgICBhY3Rpb246ICdjb21wbGV0ZScsCiAgICB9CiAgfTsKfQoKc2NvcGUuZ29vZ2xlID0gc2NvcGUuZ29vZ2xlIHx8IHt9OwpzY29wZS5nb29nbGUuY29sYWIgPSBzY29wZS5nb29nbGUuY29sYWIgfHwge307CnNjb3BlLmdvb2dsZS5jb2xhYi5fZmlsZXMgPSB7CiAgX3VwbG9hZEZpbGVzLAogIF91cGxvYWRGaWxlc0NvbnRpbnVlLAp9Owp9KShzZWxmKTsK",
              "ok": true,
              "headers": [
                [
                  "content-type",
                  "application/javascript"
                ]
              ],
              "status": 200,
              "status_text": ""
            }
          },
          "base_uri": "https://localhost:8080/",
          "height": 341
        }
      },
      "source": [
        "# Test model\n",
        "\n",
        "import numpy as np\n",
        "from google.colab import files\n",
        "from keras.preprocessing import image\n",
        "import matplotlib.pyplot as plt\n",
        "import matplotlib.image as mpimg\n",
        "%matplotlib inline\n",
        " \n",
        "uploaded = files.upload()\n",
        " \n",
        "for fn in uploaded.keys():\n",
        " \n",
        "  # predicting images\n",
        "  path = fn\n",
        "  img = image.load_img(path, target_size=(224,224))\n",
        "  imgplot = plt.imshow(img)\n",
        "  x = image.img_to_array(img)\n",
        "  x = np.expand_dims(x, axis=0)\n",
        "  x=x/255\n",
        " \n",
        "  images = np.vstack([x])\n",
        "  classes = model.predict(images, batch_size=10)\n",
        "  \n",
        "  print(fn)"
      ],
      "execution_count": 19,
      "outputs": [
        {
          "output_type": "display_data",
          "data": {
            "text/html": [
              "\n",
              "     <input type=\"file\" id=\"files-b94d15a4-b10b-4917-a93f-0a0391dabe9f\" name=\"files[]\" multiple disabled\n",
              "        style=\"border:none\" />\n",
              "     <output id=\"result-b94d15a4-b10b-4917-a93f-0a0391dabe9f\">\n",
              "      Upload widget is only available when the cell has been executed in the\n",
              "      current browser session. Please rerun this cell to enable.\n",
              "      </output>\n",
              "      <script src=\"/nbextensions/google.colab/files.js\"></script> "
            ],
            "text/plain": [
              "<IPython.core.display.HTML object>"
            ]
          },
          "metadata": {
            "tags": []
          }
        },
        {
          "output_type": "stream",
          "text": [
            "Saving images.jpg to images (1).jpg\n",
            "images.jpg\n"
          ],
          "name": "stdout"
        },
        {
          "output_type": "display_data",
          "data": {
            "image/png": "[encoded data removed]",
            "text/plain": [
              "<Figure size 432x288 with 1 Axes>"
            ]
          },
          "metadata": {
            "tags": [],
            "needs_background": "light"
          }
        }
      ]
    },
    {
      "cell_type": "code",
      "metadata": {
        "id": "RXeAxmgGLcXR",
        "outputId": "faf44839-26e9-4220-ca36-87aee75fd619",
        "colab": {
          "base_uri": "https://localhost:8080/",
          "height": 34
        }
      },
      "source": [
        "#Hasil deteksi\n",
        "labels = data_train.class_indices\n",
        "labels = dict((v,k) for k,v in labels.items())\n",
        "pred_result = labels[np.argmax(classes)]\n",
        "print(\"Tangan terdeteksi:\",pred_result)"
      ],
      "execution_count": 20,
      "outputs": [
        {
          "output_type": "stream",
          "text": [
            "Tangan terdeteksi: scissors\n"
          ],
          "name": "stdout"
        }
      ]
    }
  ]
}